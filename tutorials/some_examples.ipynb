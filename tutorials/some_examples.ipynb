{
 "cells": [
  {
   "cell_type": "markdown",
   "metadata": {},
   "source": [
    "### Небольшие примеры работы библиотек"
   ]
  },
  {
   "cell_type": "markdown",
   "metadata": {},
   "source": [
    "**Numpy** - это библиотека для эффективной работы с многомерными массивами. С неё помощью, например, вычисление попиксельной разницы между кадрами можно написать в одну строку. Подробнее https://pythonworld.ru/numpy/1.html. Совсем подробнее и на английском - https://docs.scipy.org/doc/numpy/user/quickstart.html"
   ]
  },
  {
   "cell_type": "code",
   "execution_count": null,
   "metadata": {},
   "outputs": [],
   "source": [
    "import numpy as np"
   ]
  },
  {
   "cell_type": "code",
   "execution_count": null,
   "metadata": {},
   "outputs": [],
   "source": [
    "a = [1, 2, 3, 4, 5]\n",
    "b = [[1, 2], [3, 4], [5, 6]]"
   ]
  },
  {
   "cell_type": "code",
   "execution_count": null,
   "metadata": {},
   "outputs": [],
   "source": [
    "print(np.mean(a), np.mean(b)) #np.mean работает с массивами любой размерности "
   ]
  },
  {
   "cell_type": "markdown",
   "metadata": {},
   "source": [
    "Для успешного выполнения задания вам понадобятся функции, служащие для подсчёта различных статистик на кадрах - минимум, максимум, среднее, медиана, гистограмма и т.д. Список таких функций содержит документация numpy, а конкретнее страница https://docs.scipy.org/doc/numpy/reference/routines.statistics.html\n",
    "\n",
    "*Подсказка: большинство функций имеют интуитивно понятные названия, попробуйте вызвать автодополнение в ноутбуке после нескольких первых симоволов. Кроме того, в интерактивных ноутбуках уже встроена справка по функциям, достаточно после открытой скобки нажать shift+tab*"
   ]
  },
  {
   "cell_type": "markdown",
   "metadata": {},
   "source": [
    "**Opencv** - это библиотека для обработки изображений и видео. В данном задании мы будем её использовать для загрузки видео"
   ]
  },
  {
   "cell_type": "code",
   "execution_count": null,
   "metadata": {},
   "outputs": [],
   "source": [
    "import cv2 # Для установки opencv воспользуйтесь командой в терминале conda install -c conda-forge opencv"
   ]
  },
  {
   "cell_type": "markdown",
   "metadata": {},
   "source": [
    "Opencv содержит очень много высокоуровневых функций обработки изображений (например, некоторые алгоритмы компенсации движения, отслеживания объектов, распознавания образов). Использование данной библиотеки в данном задании ограничивается только считыванием входного видео и преобразования его кадро в другие цветовые пространства.\n",
    "\n",
    "Пример использования функций:"
   ]
  },
  {
   "cell_type": "code",
   "execution_count": null,
   "metadata": {},
   "outputs": [],
   "source": [
    "image = cv2.imread('lena.png')"
   ]
  },
  {
   "cell_type": "markdown",
   "metadata": {},
   "source": [
    "Изображение (как и кадр видео) представляет собой двумерный массив пикселей. Пиксель - это тройка значений. По умолчанию пиксели записаны в пространстве BGR"
   ]
  },
  {
   "cell_type": "code",
   "execution_count": null,
   "metadata": {},
   "outputs": [],
   "source": [
    "image[0, 0] #Что лежит в пикселе (0, 0)"
   ]
  },
  {
   "cell_type": "code",
   "execution_count": null,
   "metadata": {},
   "outputs": [],
   "source": [
    "image[0, 0, 0], image[0, 0, 1], image[0, 0, 2] # компоненты B, G и R соответственно"
   ]
  },
  {
   "cell_type": "code",
   "execution_count": null,
   "metadata": {},
   "outputs": [],
   "source": [
    "image_gray = cv2.cvtColor(image, cv2.COLOR_BGR2GRAY)\n",
    "image_hsv = cv2.cvtColor(image, cv2.COLOR_BGR2HSV)"
   ]
  },
  {
   "cell_type": "code",
   "execution_count": null,
   "metadata": {},
   "outputs": [],
   "source": [
    "print(image_gray[0, 0])\n",
    "print(image_hsv[0, 0])"
   ]
  },
  {
   "cell_type": "markdown",
   "metadata": {},
   "source": [
    "Кроме того, вам могут пригодиться следующие строки кода:"
   ]
  },
  {
   "cell_type": "code",
   "execution_count": null,
   "metadata": {},
   "outputs": [],
   "source": [
    "print('Размер изображения:', image.shape)\n",
    "print(image[:, :, 0]) # Только одна цветовая комонента (в данном случае - синий цвет)\n",
    "print(image[0:8, 0:8]) # Блок 8x8 (левый верхний) изображения"
   ]
  },
  {
   "cell_type": "markdown",
   "metadata": {},
   "source": [
    "**Matplotlib, seaborn**. Смотреть на числа, показывающие характеристики изображения и на показатели качества алгоритма - скучно. Поэтому добавим картинок в нашу работу!"
   ]
  },
  {
   "cell_type": "code",
   "execution_count": null,
   "metadata": {},
   "outputs": [],
   "source": [
    "import matplotlib.pyplot as plt # Это стандартная библиотека построения графиков в python\n",
    "import seaborn as sns # Эта библиотека делает графики красивыми\n",
    "%matplotlib inline\n",
    "# Последняя команда нужна для корректного отображения графиков в интерактивном ноутбуке"
   ]
  },
  {
   "cell_type": "code",
   "execution_count": null,
   "metadata": {},
   "outputs": [],
   "source": [
    "plt.imshow(image)"
   ]
  },
  {
   "cell_type": "markdown",
   "metadata": {},
   "source": [
    "Что-то тут не так! Проблема в том, что opencv хранит изображение в формате BGR, а matplotlib ожидает RGB. Исправим это маленькое недоразумение"
   ]
  },
  {
   "cell_type": "code",
   "execution_count": null,
   "metadata": {},
   "outputs": [],
   "source": [
    "plt.imshow(cv2.cvtColor(image, cv2.COLOR_BGR2RGB))"
   ]
  },
  {
   "cell_type": "markdown",
   "metadata": {},
   "source": [
    "Также можно и посмотреть на чёрно-белую Лену:"
   ]
  },
  {
   "cell_type": "code",
   "execution_count": null,
   "metadata": {},
   "outputs": [],
   "source": [
    "plt.imshow(image_gray, cmap='gray')"
   ]
  },
  {
   "cell_type": "code",
   "execution_count": null,
   "metadata": {},
   "outputs": [],
   "source": [
    "a = [10, 2, 3, 4, 5, 1, 23, 6]\n",
    "plt.figure(figsize=(16, 8)) # Сделаем график чуть больше\n",
    "plt.plot(a, label='Моя метрика', c='red')\n",
    "plt.xlabel('Номер кадра') # Не забываем подписывать оси :3\n",
    "plt.ylabel('Значение метрики (в папугаях)')\n",
    "plt.legend() # Подпишем кривую"
   ]
  },
  {
   "cell_type": "markdown",
   "metadata": {},
   "source": [
    "**tqdm**. Работа с видео занимает не пару секунд. Чтобы отслеживать текущее состояние выполнения программы, удобно встраивать прогресс-бары в циклы (по кадрам, по видео). Это очень просто:"
   ]
  },
  {
   "cell_type": "code",
   "execution_count": null,
   "metadata": {},
   "outputs": [],
   "source": [
    "from tqdm import tqdm_notebook"
   ]
  },
  {
   "cell_type": "code",
   "execution_count": null,
   "metadata": {},
   "outputs": [],
   "source": [
    "for idx in tqdm_notebook(range(1000000)):\n",
    "    pass # Ничего неделаем"
   ]
  },
  {
   "cell_type": "code",
   "execution_count": null,
   "metadata": {},
   "outputs": [],
   "source": [
    "for idx in tqdm_notebook(range(10)):\n",
    "    for idx in tqdm_notebook(range(100000), leave=False): # Хотим, чтобы по окончанию работы прогресс-бар исчез\n",
    "        pass # Ничего неделаем"
   ]
  },
  {
   "cell_type": "markdown",
   "metadata": {},
   "source": [
    "**json**. Большинство данных хранятся в формате json. Что это такое и почему это удобно https://pythonworld.ru/moduli/modul-json.html"
   ]
  },
  {
   "cell_type": "code",
   "execution_count": null,
   "metadata": {},
   "outputs": [],
   "source": [
    "import json"
   ]
  },
  {
   "cell_type": "code",
   "execution_count": null,
   "metadata": {},
   "outputs": [],
   "source": [
    "def load_json_from_file(filename):\n",
    "    with open(filename, \"r\") as f:\n",
    "        return json.load(f, strict=False)\n",
    "\n",
    "\n",
    "def dump_json_to_file(obj, filename, **kwargs):\n",
    "    with open(filename, \"w\") as f:\n",
    "        json.dump(obj, f, **kwargs)"
   ]
  },
  {
   "cell_type": "code",
   "execution_count": null,
   "metadata": {},
   "outputs": [],
   "source": [
    "video_dataset = load_json_from_file('train_dataset/info.json') # Ссылка на json-файл из 1 задания\n",
    "video_dataset"
   ]
  },
  {
   "cell_type": "code",
   "execution_count": null,
   "metadata": {},
   "outputs": [],
   "source": []
  }
 ],
 "metadata": {
  "kernelspec": {
   "display_name": "Python 3",
   "language": "python",
   "name": "python3"
  },
  "language_info": {
   "codemirror_mode": {
    "name": "ipython",
    "version": 3
   },
   "file_extension": ".py",
   "mimetype": "text/x-python",
   "name": "python",
   "nbconvert_exporter": "python",
   "pygments_lexer": "ipython3",
   "version": "3.7.1"
  }
 },
 "nbformat": 4,
 "nbformat_minor": 2
}
